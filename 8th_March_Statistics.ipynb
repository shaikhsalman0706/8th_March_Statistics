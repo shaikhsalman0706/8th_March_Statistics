{
 "cells": [
  {
   "cell_type": "markdown",
   "id": "50bc496c",
   "metadata": {},
   "source": [
    "### Q1. What is the Probability density function?"
   ]
  },
  {
   "cell_type": "markdown",
   "id": "720f6e7d",
   "metadata": {},
   "source": [
    "#### Probability density function (PDF) is a mathematical function that describes the probability distribution of a continuous random variable.\n",
    "\n",
    "#### The PDF provides the probability of the random variable taking a value within a particular interval. Unlike the probability function for a discrete random variable, the PDF cannot be used to calculate the probability of a single value. Instead, it is used to calculate the probability of the random variable taking a value within a range of values.\n",
    "\n",
    "#### The PDF is typically denoted by f(x), where x is the random variable. The area under the curve of the PDF between two values of x represents the probability of the random variable taking a value within that range. The total area under the curve of the PDF is always equal to 1.\n",
    "\n",
    "#### The PDF is a useful tool in many fields, including statistics, physics, engineering, and finance. It is often used to model and analyze data that follows a continuous distribution, such as the normal distribution, the uniform distribution, or the exponential distribution."
   ]
  },
  {
   "cell_type": "markdown",
   "id": "244a133f",
   "metadata": {},
   "source": [
    "### Q2. What are the types of Probability distribution?"
   ]
  },
  {
   "cell_type": "markdown",
   "id": "2c6aa9b6",
   "metadata": {},
   "source": [
    "#### There are several types of probability distributions, each of which has its own set of characteristics and applications. Here are some of the most common types of probability distributions:\n",
    "\n",
    "###### 1. Discrete probability distributions: These are distributions where the random variable can only take on a finite number of values or a countably infinite number of values. Examples of discrete probability distributions include the binomial distribution, the Poisson distribution, and the geometric distribution.\n",
    "\n",
    "###### 2. Continuous probability distributions: These are distributions where the random variable can take on any value within a continuous range. Examples of continuous probability distributions include the normal distribution, the uniform distribution, and the exponential distribution.\n",
    "\n",
    "###### 3. Bernoulli distribution: This is a special case of the binomial distribution, where there is only one trial. The random variable takes on two values, usually labeled as 0 and 1, with a probability p of the value 1.\n",
    "\n",
    "###### 4. Binomial distribution: This is a discrete probability distribution that describes the number of successes in a fixed number of independent trials, where each trial has only two possible outcomes, usually labeled as success and failure.\n",
    "\n",
    "###### 5. Poisson distribution: This is a discrete probability distribution that describes the number of events occurring in a fixed time interval, given the average rate of occurrence.\n",
    "\n",
    "###### 6. Normal distribution: This is a continuous probability distribution that is widely used in statistics to model real-world phenomena. It is characterized by a bell-shaped curve and is commonly referred to as the \"Gaussian distribution.\"\n",
    "\n",
    "###### 7. Exponential distribution: This is a continuous probability distribution that describes the time between events occurring in a Poisson process, such as the time between phone calls to a call center or the time between radioactive decay events."
   ]
  },
  {
   "cell_type": "markdown",
   "id": "cc874fdf",
   "metadata": {},
   "source": [
    "### Q3. Write a Python function to calculate the probability density function of a normal distribution with given mean and standard deviation at a given point."
   ]
  },
  {
   "cell_type": "code",
   "execution_count": 3,
   "id": "5b458866",
   "metadata": {},
   "outputs": [],
   "source": [
    "import math\n",
    "\n",
    "def normal_pdf(x, mean, std_dev):\n",
    "    \n",
    "    variance = std_dev ** 2\n",
    "    exp_term = math.exp(-(x - mean) ** 2 / (2 * variance))\n",
    "    coefficient = 1 / math.sqrt(2 * math.pi * variance)\n",
    "    return coefficient * exp_term"
   ]
  },
  {
   "cell_type": "code",
   "execution_count": 4,
   "id": "d884126f",
   "metadata": {},
   "outputs": [
    {
     "name": "stdout",
     "output_type": "stream",
     "text": [
      "0.12951759566589174\n"
     ]
    }
   ],
   "source": [
    "pdf_value = normal_pdf(1.5, 0, 1)\n",
    "print(pdf_value)"
   ]
  },
  {
   "cell_type": "markdown",
   "id": "f9557ae9",
   "metadata": {},
   "source": [
    "### Q4. What are the properties of Binomial distribution? Give two examples of events where binomial distribution can be applied."
   ]
  },
  {
   "cell_type": "markdown",
   "id": "187cb1a6",
   "metadata": {},
   "source": [
    "#### The binomial distribution is a discrete probability distribution that describes the number of successes in a fixed number of independent trials, where each trial has only two possible outcomes, usually labeled as success and failure. Here are some of the properties of the binomial distribution:\n",
    "\n",
    "###### 1. The binomial distribution has two parameters: n, the number of trials, and p, the probability of success in each trial.\n",
    "\n",
    "###### 2. The mean of the binomial distribution is equal to n * p, and the variance is equal to n * p * (1 - p).\n",
    "\n",
    "###### 3. The probability mass function (PMF) of the binomial distribution is given by the formula P(X = k) = (n choose k) * p^k * (1 - p)^(n - k), where X is the random variable representing the number of successes, k is the number of successes, (n choose k) is the binomial coefficient, and p^k * (1 - p)^(n - k) is the probability of getting k successes and n - k failures in n trials.\n",
    "\n",
    "###### 4. The binomial distribution is symmetric when p = 0.5 and is skewed when p is not equal to 0.5.\n",
    "\n",
    "#### Examples of events where the binomial distribution can be applied include:\n",
    "\n",
    "###### 1. Flipping a coin: Suppose you flip a fair coin 10 times and want to know the probability of getting exactly 5 heads. This is an example of a binomial distribution with n = 10 and p = 0.5.\n",
    "\n",
    "###### 2. Medical diagnosis: Suppose a medical test for a certain disease is 95% accurate. If 100 people are tested, what is the probability that exactly 90 of them are correctly diagnosed? This is an example of a binomial distribution with n = 100 and p = 0.95."
   ]
  },
  {
   "cell_type": "markdown",
   "id": "1cda8b45",
   "metadata": {},
   "source": [
    "### Q5. Generate a random sample of size 1000 from a binomial distribution with probability of success 0.4 and plot a histogram of the results using matplotlib."
   ]
  },
  {
   "cell_type": "code",
   "execution_count": 5,
   "id": "cf886e1d",
   "metadata": {},
   "outputs": [
    {
     "data": {
      "image/png": "[encoded data removed]",
      "text/plain": [
       "<Figure size 640x480 with 1 Axes>"
      ]
     },
     "metadata": {},
     "output_type": "display_data"
    }
   ],
   "source": [
    "import numpy as np\n",
    "import matplotlib.pyplot as plt\n",
    "\n",
    "# Set the parameters of the binomial distribution\n",
    "n = 10\n",
    "p = 0.4\n",
    "\n",
    "# Generate a random sample of size 1000 from the binomial distribution\n",
    "sample = np.random.binomial(n, p, size=1000)\n",
    "\n",
    "# Plot a histogram of the sample using matplotlib\n",
    "plt.hist(sample, bins=range(n+2), density=True, align='left', rwidth=0.8)\n",
    "plt.xlabel('Number of successes')\n",
    "plt.ylabel('Probability')\n",
    "plt.title('Histogram of a binomial distribution with n=10 and p=0.4')\n",
    "plt.show()"
   ]
  },
  {
   "cell_type": "markdown",
   "id": "7478a989",
   "metadata": {},
   "source": [
    "### Q6. Write a Python function to calculate the cumulative distribution function of a Poisson distribution with given mean at a given point."
   ]
  },
  {
   "cell_type": "code",
   "execution_count": 6,
   "id": "8fdbec1a",
   "metadata": {},
   "outputs": [],
   "source": [
    "import math\n",
    "\n",
    "def poisson_cdf(mean, point):\n",
    "    \n",
    "    cdf = 0.0\n",
    "    for i in range(point + 1):\n",
    "        cdf += (math.exp(-mean) * (mean ** i)) / math.factorial(i)\n",
    "    return cdf"
   ]
  },
  {
   "cell_type": "code",
   "execution_count": 7,
   "id": "9faa911a",
   "metadata": {},
   "outputs": [
    {
     "name": "stdout",
     "output_type": "stream",
     "text": [
      "0.3208471988621341\n"
     ]
    }
   ],
   "source": [
    "result = poisson_cdf(3.5, 2)\n",
    "print(result)"
   ]
  },
  {
   "cell_type": "markdown",
   "id": "b7742c18",
   "metadata": {},
   "source": [
    "### Q7. How Binomial distribution different from Poisson distribution?"
   ]
  },
  {
   "cell_type": "markdown",
   "id": "25f1ce35",
   "metadata": {},
   "source": [
    "#### The binomial distribution and the Poisson distribution are both probability distributions that are commonly used to model the number of events that occur within a certain period of time or a given number of trials. However, they have some key differences in their assumptions and properties.\n",
    "\n",
    "#### The main differences between the binomial distribution and the Poisson distribution are:\n",
    "\n",
    "###### 1. Number of trials: The binomial distribution is used to model the number of successes in a fixed number of independent trials, while the Poisson distribution is used to model the number of rare events in a fixed interval of time or space.\n",
    "\n",
    "###### 2. Probability of success: In the binomial distribution, the probability of success (p) is constant across all trials. In the Poisson distribution, the probability of an event occurring is low and constant across time or space.\n",
    "\n",
    "###### 3. Mean and variance: For the binomial distribution, the mean is np and the variance is np*(1-p), where n is the number of trials and p is the probability of success. For the Poisson distribution, both the mean and variance are λ, where λ is the average number of rare events in the given time or space interval.\n",
    "\n",
    "###### 4. Continuity correction: In the binomial distribution, a continuity correction is often used to account for the fact that the distribution is discrete but is being approximated by a continuous distribution. This correction involves adding or subtracting 0.5 from the number of successes in some cases. In the Poisson distribution, no continuity correction is needed because the distribution is already continuous."
   ]
  },
  {
   "cell_type": "markdown",
   "id": "f7f39420",
   "metadata": {},
   "source": [
    "### Q8. Generate a random sample of size 1000 from a Poisson distribution with mean 5 and calculate the sample mean and variance."
   ]
  },
  {
   "cell_type": "code",
   "execution_count": 8,
   "id": "08f67bcb",
   "metadata": {},
   "outputs": [
    {
     "name": "stdout",
     "output_type": "stream",
     "text": [
      "Sample mean: 5.031\n",
      "Sample variance: 5.158039\n"
     ]
    }
   ],
   "source": [
    "import numpy as np\n",
    "\n",
    "# Generate a random sample of size 1000 from a Poisson distribution with mean 5\n",
    "sample = np.random.poisson(lam=5, size=1000)\n",
    "\n",
    "# Calculate the sample mean and variance\n",
    "sample_mean = np.mean(sample)\n",
    "sample_variance = np.var(sample)\n",
    "\n",
    "print(\"Sample mean:\", sample_mean)\n",
    "print(\"Sample variance:\", sample_variance)"
   ]
  },
  {
   "cell_type": "markdown",
   "id": "6e2dbdc1",
   "metadata": {},
   "source": [
    "### Q9. How mean and variance are related in Binomial distribution and Poisson distribution?"
   ]
  },
  {
   "cell_type": "markdown",
   "id": "9b98149a",
   "metadata": {},
   "source": [
    "#### In the binomial distribution, the mean and variance are related as follows:\n",
    "\n",
    "Mean = np\n",
    "\n",
    "Variance = np(1-p)\n",
    "\n",
    "where n is the number of trials and p is the probability of success.\n",
    "\n",
    "In the Poisson distribution, the mean and variance are equal:\n",
    "\n",
    "Mean = Variance = λ\n",
    "\n",
    "where λ is the rate parameter, representing the expected number of occurrences in a given interval of time or space.\n",
    "\n",
    "#### The relationship between the mean and variance in these distributions reflects the underlying nature of the random variable being modeled. In the binomial distribution, the variance increases as the probability of success gets closer to 0 or 1, indicating a more uncertain outcome. In the Poisson distribution, the variance is equal to the mean because the events occur independently and at a constant rate, resulting in a more predictable outcome."
   ]
  },
  {
   "cell_type": "markdown",
   "id": "75068b31",
   "metadata": {},
   "source": [
    "### Q10. In normal distribution with respect to mean position, where does the least frequent data appear?"
   ]
  },
  {
   "cell_type": "markdown",
   "id": "f0ed3577",
   "metadata": {},
   "source": [
    "#### In a normal distribution, the least frequent data appears in the tails of the distribution, which are the regions that are farthest away from the mean. The normal distribution is a symmetric probability distribution, which means that the data is distributed evenly around the mean.\n",
    "\n",
    "#### The tails of the distribution are the areas that lie beyond a certain number of standard deviations from the mean. In a standard normal distribution, which has a mean of 0 and a standard deviation of 1, the least frequent data appears in the extreme tails, which are more than 3 standard deviations away from the mean.\n",
    "\n",
    "#### For example, in a normal distribution with a mean of 50 and a standard deviation of 10, the least frequent data would appear in the regions that are more than 3 standard deviations away from the mean, which would be below 20 or above 80. These regions contain only a very small proportion of the total data, and therefore the data in these regions is the least frequent."
   ]
  },
  {
   "cell_type": "code",
   "execution_count": null,
   "id": "d49c8585",
   "metadata": {},
   "outputs": [],
   "source": []
  }
 ],
 "metadata": {
  "kernelspec": {
   "display_name": "Python 3 (ipykernel)",
   "language": "python",
   "name": "python3"
  },
  "language_info": {
   "codemirror_mode": {
    "name": "ipython",
    "version": 3
   },
   "file_extension": ".py",
   "mimetype": "text/x-python",
   "name": "python",
   "nbconvert_exporter": "python",
   "pygments_lexer": "ipython3",
   "version": "3.9.13"
  }
 },
 "nbformat": 4,
 "nbformat_minor": 5
}
